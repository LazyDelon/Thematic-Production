{
 "cells": [
  {
   "cell_type": "code",
   "execution_count": 4,
   "id": "248af8e6",
   "metadata": {},
   "outputs": [
    {
     "name": "stdout",
     "output_type": "stream",
     "text": [
      "Model accuracy score with rbf kernel and C=1000.0 : 0.9785\n",
      "Model accuracy score with linear kernel and C=100.0 : 0.9839\n",
      "Training set score: 0.9862\n",
      "Test set score: 0.9785\n"
     ]
    }
   ],
   "source": [
    "import pandas as pd\n",
    "\n",
    "from sklearn.svm import SVC\n",
    "from sklearn.metrics import accuracy_score\n",
    "from sklearn.model_selection import train_test_split\n",
    "\n",
    "df = pd.read_csv('testcsv.csv', index_col=[0, 1], encoding='utf-8')\n",
    "df = df[(df.正負樣本 == 1) | (df.正負樣本 == -1)]\n",
    "\n",
    "\n",
    "X = df.drop(['ROE_5Y.1','EPS_5Y.1','毛利率_5Y.1','現金殖利率.1','符合數量','正負樣本'], axis=1)\n",
    "y = df['正負樣本']\n",
    "X_train, X_test, y_train, y_test = train_test_split(X, y, test_size = 0.3, random_state = 0)\n",
    "\n",
    "\n",
    "svc=SVC(C=1000.0)\n",
    "svc.fit(X_train, y_train)\n",
    "y_pred=svc.predict(X_test)\n",
    "print('Model accuracy score with rbf kernel and C=1000.0 : {0:0.4f}'. format(accuracy_score(y_test, y_pred)))\n",
    "\n",
    "\n",
    "linear_svc100=SVC(kernel='linear', C=100) \n",
    "linear_svc100.fit(X_train, y_train)\n",
    "y_pred=linear_svc100.predict(X_test)\n",
    "print('Model accuracy score with linear kernel and C=100.0 : {0:0.4f}'. format(accuracy_score(y_test, y_pred)))\n",
    "\n",
    "\n",
    "print('Training set score: {:.4f}'.format(linear_svc100.score(X_train, y_train)))\n",
    "print('Test set score: {:.4f}'.format(svc.score(X_test, y_test)))\n",
    "\n",
    "\n",
    "Data1 = pd.DataFrame(y_pred)\n",
    "Data1.columns = [\"答案\"]\n",
    "Data1.to_csv(\"Answer.csv\", index=False, encoding='utf_8_sig')\n",
    "\n",
    "Data2 = pd.DataFrame(X_test)\n",
    "Data2.to_csv(\"Answer_Data.csv\", encoding='utf_8_sig')\n",
    "\n",
    "File1 = pd.read_csv(\"Answer.csv\")\n",
    "File2 = pd.read_csv(\"Answer_Data.csv\")\n",
    "Result = pd.concat([File2, File1], axis=1, sort=False)\n",
    "Result.to_csv(\"Test.csv\", index=False, encoding='utf_8_sig')"
   ]
  },
  {
   "cell_type": "code",
   "execution_count": 5,
   "id": "7bc79e52",
   "metadata": {},
   "outputs": [
    {
     "name": "stdout",
     "output_type": "stream",
     "text": [
      "Model accuracy score with rbf kernel and C=1000.0 : 0.9785\n",
      "Model accuracy score with linear kernel and C=100.0 : 0.9839\n",
      "Training set score: 0.9862\n",
      "Test set score: 0.9839\n"
     ]
    }
   ],
   "source": [
    "X = df.drop(['ROE_5Y.1','EPS_5Y.1','毛利率_5Y.1','現金殖利率.1','符合數量','正負樣本'], axis=1)\n",
    "y = df['正負樣本']\n",
    "X_train, X_test, y_train, y_test = train_test_split(X, y, test_size = 0.3, random_state = 0)\n",
    "\n",
    "svc=SVC(C=1000.0)\n",
    "svc.fit(X_train, y_train)\n",
    "y_pred=svc.predict(X_test)\n",
    "print('Model accuracy score with rbf kernel and C=1000.0 : {0:0.4f}'. format(accuracy_score(y_test, y_pred)))\n",
    "\n",
    "linear_svc100=SVC(kernel='linear', C=100.0) \n",
    "linear_svc100.fit(X_train, y_train)\n",
    "y_pred=linear_svc100.predict(X_test)\n",
    "print('Model accuracy score with linear kernel and C=100.0 : {0:0.4f}'. format(accuracy_score(y_test, y_pred)))\n",
    "\n",
    "print('Training set score: {:.4f}'.format(linear_svc100.score(X_train, y_train)))\n",
    "print('Test set score: {:.4f}'.format(linear_svc100.score(X_test, y_test)))"
   ]
  },
  {
   "cell_type": "code",
   "execution_count": null,
   "id": "1ffa8979",
   "metadata": {},
   "outputs": [],
   "source": []
  }
 ],
 "metadata": {
  "kernelspec": {
   "display_name": "Python 3 (ipykernel)",
   "language": "python",
   "name": "python3"
  },
  "language_info": {
   "codemirror_mode": {
    "name": "ipython",
    "version": 3
   },
   "file_extension": ".py",
   "mimetype": "text/x-python",
   "name": "python",
   "nbconvert_exporter": "python",
   "pygments_lexer": "ipython3",
   "version": "3.8.13"
  }
 },
 "nbformat": 4,
 "nbformat_minor": 5
}
